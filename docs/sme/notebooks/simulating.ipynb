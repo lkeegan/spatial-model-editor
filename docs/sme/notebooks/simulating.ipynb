{
 "cells": [
  {
   "cell_type": "markdown",
   "metadata": {},
   "source": [
    "# Simulating"
   ]
  },
  {
   "cell_type": "markdown",
   "metadata": {},
   "source": [
    "## Open an example model"
   ]
  },
  {
   "cell_type": "code",
   "execution_count": null,
   "metadata": {
    "colab": {},
    "colab_type": "code",
    "id": "EtqqtL8VYdA5"
   },
   "outputs": [],
   "source": [
    "!pip install -q sme\n",
    "import sme\n",
    "from matplotlib import pyplot as plt"
   ]
  },
  {
   "cell_type": "code",
   "execution_count": null,
   "metadata": {
    "colab": {},
    "colab_type": "code",
    "id": "LLPnn1h1Yee7"
   },
   "outputs": [],
   "source": [
    "my_model = sme.open_example_model()"
   ]
  },
  {
   "cell_type": "markdown",
   "metadata": {},
   "source": [
    "## Running a simulation\n",
    "- models can be simulated by specifying the total simulation time, and the interval between images\n",
    "- the simulation returns a list of `SimulationResult` objects, each of which contains\n",
    "  - `time_point`: the time point\n",
    "  - `concentration_image`: an image of the species concentrations at this time point\n",
    "  - `species_concentration`: a dict of the concentrations for each species at this time point"
   ]
  },
  {
   "cell_type": "code",
   "execution_count": null,
   "metadata": {},
   "outputs": [],
   "source": [
    "sim_results = my_model.simulate(simulation_time=250.0, image_interval=50.0)\n",
    "type(sim_results[0])\n",
    "print(sim_results[0])"
   ]
  },
  {
   "cell_type": "markdown",
   "metadata": {},
   "source": [
    "### Display images from simulation results"
   ]
  },
  {
   "cell_type": "code",
   "execution_count": null,
   "metadata": {},
   "outputs": [],
   "source": [
    "fig, axs = plt.subplots(nrows=1, ncols=len(sim_results), figsize=(18, 12))\n",
    "for (ax, res) in zip(axs, sim_results):\n",
    "    ax.imshow(res.concentration_image)\n",
    "    ax.set_title(f\"t = {res.time_point}\")\n",
    "plt.show()"
   ]
  },
  {
   "cell_type": "markdown",
   "metadata": {},
   "source": [
    "### Plot concentrations from simulation results"
   ]
  },
  {
   "cell_type": "code",
   "execution_count": null,
   "metadata": {},
   "outputs": [],
   "source": [
    "result = sim_results[5]\n",
    "fig, axs = plt.subplots(nrows=1, ncols=len(result.species_concentration), figsize=(24, 3))\n",
    "for (ax, (species, concentration)) in zip(axs, result.species_concentration.items()):\n",
    "    im = ax.imshow(concentration)\n",
    "    ax.set_title(f\"'{species}' at t = {result.time_point}\")\n",
    "    fig.colorbar(im, ax=ax)\n",
    "plt.show()"
   ]
  },
  {
   "cell_type": "markdown",
   "metadata": {},
   "source": [
    "##  Reaction rate example\n",
    "\n",
    "Here we repeat a simulation four times, each time with a different value for the `k1` parameter in the `A to B conversion` reaction within the Nucleus, and display the resulting species concentration images at `t=25`"
   ]
  },
  {
   "cell_type": "code",
   "execution_count": null,
   "metadata": {},
   "outputs": [],
   "source": [
    "k1vals = [1e-4, 1e-2, 1, 100]\n",
    "fig, axs = plt.subplots(nrows=1, ncols=len(k1vals), figsize=(18, 12))\n",
    "for ax, k1 in zip(axs, k1vals):\n",
    "    my_model.compartments['Nucleus'].reactions['A to B conversion'].parameters['k1'].value = k1\n",
    "    results = my_model.simulate(simulation_time=25.0, image_interval=25.0)\n",
    "    ax.imshow(results[1].concentration_image)\n",
    "    ax.set_title(f\"k1 = {k1}\")\n",
    "plt.show()"
   ]
  },
  {
   "cell_type": "markdown",
   "metadata": {},
   "source": [
    "##  Diffusion constant example\n",
    "\n",
    "Here we repeat a simulation four times, each time with a different value for the diffusion constant of species `B_cell`, and plot the resulting concentration of this species at `t=15`."
   ]
  },
  {
   "cell_type": "code",
   "execution_count": null,
   "metadata": {},
   "outputs": [],
   "source": [
    "diffconsts = [1e-6, 1, 10, 100]\n",
    "fig, axs = plt.subplots(nrows=1, ncols=len(diffconsts), figsize=(18, 3))\n",
    "for ax, diffconst in zip(axs, diffconsts):\n",
    "    my_model.compartments['Cell'].species['B_cell'].diffusion_constant = diffconst\n",
    "    results = my_model.simulate(simulation_time=15.0, image_interval=15.0)\n",
    "    im = ax.imshow(results[1].species_concentration['B_cell'])\n",
    "    ax.set_title(f\"B_cell D = {diffconst}\")\n",
    "    fig.colorbar(im, ax=ax)\n",
    "plt.show()"
   ]
  },
  {
   "cell_type": "code",
   "execution_count": null,
   "metadata": {},
   "outputs": [],
   "source": []
  }
 ],
 "metadata": {
  "colab": {
   "name": "sme_getting_started.ipynb",
   "provenance": []
  },
  "kernelspec": {
   "display_name": "Python 3",
   "language": "python",
   "name": "python3"
  },
  "language_info": {
   "codemirror_mode": {
    "name": "ipython",
    "version": 3
   },
   "file_extension": ".py",
   "mimetype": "text/x-python",
   "name": "python",
   "nbconvert_exporter": "python",
   "pygments_lexer": "ipython3",
   "version": "3.8.6"
  }
 },
 "nbformat": 4,
 "nbformat_minor": 1
}
